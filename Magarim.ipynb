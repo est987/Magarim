{
 "cells": [
  {
   "cell_type": "code",
   "execution_count": 57,
   "metadata": {},
   "outputs": [],
   "source": [
    "import camelot\n",
    "import pandas as pd\n",
    "import os"
   ]
  },
  {
   "cell_type": "code",
   "execution_count": 58,
   "metadata": {},
   "outputs": [],
   "source": [
    "#clean names by spliting and reversing order\n",
    "def new_split(a_list):\n",
    "    fin_str = ''\n",
    "    for x in a_list:\n",
    "        fin_str += x[::-1]\n",
    "    return fin_str"
   ]
  },
  {
   "cell_type": "code",
   "execution_count": 59,
   "metadata": {},
   "outputs": [],
   "source": [
    "def returnCleanTable(df):\n",
    "    df[2] = df[2].apply(lambda x: x.split('''\\n'''))\n",
    "    df[2] = df[2].apply(new_split)\n",
    "    df[3] = df[3].apply(lambda x: x.split('''\\n'''))\n",
    "    df[3] = df[3].apply(new_split)\n",
    "    df = df.rename(columns={0:'Y',\n",
    "                         1:'X',\n",
    "                         2:'הסבר',\n",
    "                         3:'שם המאגר',\n",
    "                         4:'מספר'})\n",
    "    df = df.iloc[2:].reset_index(drop=True)\n",
    "    \n",
    "    return df\n"
   ]
  },
  {
   "cell_type": "code",
   "execution_count": 60,
   "metadata": {},
   "outputs": [
    {
     "name": "stdout",
     "output_type": "stream",
     "text": [
      "1.pdf\n",
      "2.pdf\n",
      "3.pdf\n",
      "4.pdf\n",
      "5.pdf\n",
      "6.pdf\n"
     ]
    }
   ],
   "source": [
    "final_df = pd.DataFrame()\n",
    "for file in os.listdir('pdfs'):\n",
    "    print(file)\n",
    "    tables = camelot.read_pdf('pdfs/{}'.format(file))\n",
    "    #name = file.split('.')[0]\n",
    "    df = tables[0].df\n",
    "    clean_df = returnCleanTable(df)\n",
    "    final_df = final_df.append(clean_df, ignore_index=True)\n",
    "    "
   ]
  },
  {
   "cell_type": "code",
   "execution_count": 62,
   "metadata": {},
   "outputs": [],
   "source": [
    "final_df.to_csv('magarim_ecologim.csv', encoding='windows-1255')"
   ]
  },
  {
   "cell_type": "code",
   "execution_count": null,
   "metadata": {},
   "outputs": [],
   "source": []
  }
 ],
 "metadata": {
  "kernelspec": {
   "display_name": "Python 3",
   "language": "python",
   "name": "python3"
  },
  "language_info": {
   "codemirror_mode": {
    "name": "ipython",
    "version": 3
   },
   "file_extension": ".py",
   "mimetype": "text/x-python",
   "name": "python",
   "nbconvert_exporter": "python",
   "pygments_lexer": "ipython3",
   "version": "3.7.5"
  }
 },
 "nbformat": 4,
 "nbformat_minor": 2
}
